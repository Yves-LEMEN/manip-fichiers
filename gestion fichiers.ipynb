{
 "cells": [
  {
   "cell_type": "markdown",
   "metadata": {},
   "source": [
    "# Générer et lire un fichier texte\n",
    "\n",
    "\n",
    "r, pour une ouverture en lecture (READ).\n",
    "w, pour une ouverture en écriture (WRITE), à chaque ouverture le contenu du fichier est écrasé. Si le fichier n'existe pas python le crée.\n",
    "a, pour une ouverture en mode ajout à la fin du fichier (APPEND). Si le fichier n'existe pas python le crée.\n",
    "t, pour une ouverture en mode texte.\n",
    "x, crée un nouveau fichier et l'ouvre pour écriture\n",
    "\n",
    "fichier.write(\"\\n\") #'\\n' saut de ligne\n",
    "fichier.write(\"1\\t2\\t3\\n\")# '\\t' tabulation"
   ]
  },
  {
   "cell_type": "code",
   "execution_count": 3,
   "metadata": {},
   "outputs": [],
   "source": [
    "from pylab import *\n",
    "import numpy as np\n",
    "\n",
    "\n",
    "l=10\n",
    "Nn=500\n",
    "omeg = 25.\n",
    "xp = np.linspace(-l, l, Nn)\n",
    "\n",
    "# définition du potentiel quadratique\n",
    "Pot = (omeg**2/2)*xp**2\n",
    "V=str(Pot)\n",
    "\n",
    "\n",
    "fichier = open(\"data.txt\", \"w\")\n",
    "for i in range(Nn):\n",
    "    print(xp[i], Pot[i],file=fichier)\n",
    "fichier.close()\n",
    "\n"
   ]
  },
  {
   "cell_type": "code",
   "execution_count": 13,
   "metadata": {},
   "outputs": [],
   "source": [
    "from pylab import *\n",
    "import numpy as np\n",
    "\n",
    "with open (\"data.txt\", \"r\") as fichier: # ouverture du fichier en mode lecture\n",
    "\n",
    "    fichier = open(\"data.txt\", \"r\")\n",
    "data = np.loadtxt(fichier)\n",
    "\n",
    "xpread = data[:,0]\n",
    "potread = data[:,1]\n",
    "\n",
    "#print(xpread)\n",
    "#print(potread)\n",
    "\n",
    "\n",
    "\n",
    "\n"
   ]
  },
  {
   "cell_type": "markdown",
   "metadata": {},
   "source": [
    "Ouverture des fichiers pec_sigmag.txt, pec_sigmau.txt et lecture.\n",
    "Ces fichiers donnent les potentiels de $H^+$ et $H^-$ lorsque les protons sont à des distances variables l'un de l'autre."
   ]
  },
  {
   "cell_type": "code",
   "execution_count": 15,
   "metadata": {},
   "outputs": [
    {
     "name": "stdout",
     "output_type": "stream",
     "text": [
      "488\n",
      "488\n",
      "489\n",
      "489\n"
     ]
    },
    {
     "data": {
      "image/png": "[encoded data removed]",
      "text/plain": [
       "<Figure size 432x288 with 1 Axes>"
      ]
     },
     "metadata": {
      "needs_background": "light"
     },
     "output_type": "display_data"
    }
   ],
   "source": [
    "from pylab import *\n",
    "import numpy as np\n",
    "\n",
    "with open (\"pec_sigmag.txt\", \"r\") as fichierg: # ouverture du fichier pec_sigmag.txt en mode lecture\n",
    "\n",
    "    fichierg = open(\"pec_sigmag.txt\", \"r\")\n",
    "data = np.loadtxt(fichierg)\n",
    "\n",
    "xg_read = data[:,0]\n",
    "potg_read = data[:,1]\n",
    "\n",
    "#print(xg_read)\n",
    "#print(potg_read)\n",
    "\n",
    "rcParams['axes.labelsize'] = 20\n",
    "xlabel(\"distance\")\n",
    "ylabel(\"potentiel\")\n",
    "plot(xg_read, potg_read)\n",
    "print(len(xg_read))\n",
    "print(len(potg_read))\n",
    "\n",
    "\n",
    "\n",
    "with open (\"pec_sigmau.txt\", \"r\") as fichieru: # ouverture du fichier pec_sigmau.txt en mode lecture\n",
    "\n",
    "    fichieru = open(\"pec_sigmau.txt\", \"r\")\n",
    "data_u = np.loadtxt(fichieru)\n",
    "\n",
    "xu_read = data_u[:,0]\n",
    "potu_read = data_u[:,1]\n",
    "\n",
    "#print(xu_read)\n",
    "#print(potu_read)\n",
    "\n",
    "plot(xu_read, potu_read)\n",
    "print(len(xu_read))\n",
    "print(len(potu_read))\n",
    "\n"
   ]
  },
  {
   "cell_type": "code",
   "execution_count": null,
   "metadata": {},
   "outputs": [],
   "source": []
  },
  {
   "cell_type": "code",
   "execution_count": null,
   "metadata": {},
   "outputs": [],
   "source": []
  },
  {
   "cell_type": "code",
   "execution_count": null,
   "metadata": {},
   "outputs": [],
   "source": []
  }
 ],
 "metadata": {
  "kernelspec": {
   "display_name": "Python 3",
   "language": "python",
   "name": "python3"
  },
  "language_info": {
   "codemirror_mode": {
    "name": "ipython",
    "version": 3
   },
   "file_extension": ".py",
   "mimetype": "text/x-python",
   "name": "python",
   "nbconvert_exporter": "python",
   "pygments_lexer": "ipython3",
   "version": "3.7.4"
  }
 },
 "nbformat": 4,
 "nbformat_minor": 2
}
